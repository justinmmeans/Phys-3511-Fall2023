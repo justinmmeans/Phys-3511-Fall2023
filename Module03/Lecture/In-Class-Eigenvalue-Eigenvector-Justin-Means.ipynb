{
 "cells": [
  {
   "cell_type": "markdown",
   "id": "237d3de1",
   "metadata": {},
   "source": [
    "# Eigenvalues and Eigenvectors"
   ]
  },
  {
   "cell_type": "code",
   "execution_count": 1,
   "id": "07483e17",
   "metadata": {},
   "outputs": [],
   "source": [
    "import numpy as np\n",
    "import matplotlib.pyplot as plt\n",
    "%matplotlib notebook"
   ]
  },
  {
   "cell_type": "markdown",
   "id": "a7c18e77",
   "metadata": {},
   "source": [
    "\n",
    "$$\\vec{A} = \n",
    "\\begin{pmatrix}\n",
    " 11 &  -1 & 0\\\\\n",
    "-1 &  12 & -1\\\\\n",
    " 0 &  -1 & 11\n",
    "\\end{pmatrix}\n",
    "$$\n",
    "\n",
    "Find the eigenvalues and eigenvectors for the equation:\n",
    "\n",
    "$$(\\vec{A} - \\lambda\\vec{I})\\vec{v} = 0,$$\n",
    "where $\\vec{v}$ are the eigenvectors and $\\lambda$ is the eigenvalues"
   ]
  },
  {
   "cell_type": "code",
   "execution_count": 3,
   "id": "2b05781c",
   "metadata": {},
   "outputs": [
    {
     "name": "stdout",
     "output_type": "stream",
     "text": [
      "[[11 -1  0]\n",
      " [-1 12 -1]\n",
      " [ 0 -1 11]]\n"
     ]
    }
   ],
   "source": [
    "A = np.array([[11, -1, 0], [-1, 12, -1], [0, -1, 11]])\n",
    "\n",
    "print(A)"
   ]
  },
  {
   "cell_type": "code",
   "execution_count": 7,
   "id": "c9094862",
   "metadata": {},
   "outputs": [
    {
     "name": "stdout",
     "output_type": "stream",
     "text": [
      "Eigenvalue: [13. 11. 10.]\n",
      "\n",
      "Eigenvector:\n",
      " [[-4.08248290e-01 -7.07106781e-01  5.77350269e-01]\n",
      " [ 8.16496581e-01 -1.42827551e-15  5.77350269e-01]\n",
      " [-4.08248290e-01  7.07106781e-01  5.77350269e-01]]\n"
     ]
    }
   ],
   "source": [
    "Eig_Val, Eig_Vect = np.linalg.eig(A)\n",
    "\n",
    "print(\"Eigenvalue:\", Eig_Val)\n",
    "print(\"\\nEigenvector:\\n\", Eig_Vect)"
   ]
  },
  {
   "cell_type": "code",
   "execution_count": null,
   "id": "42cabdd4",
   "metadata": {},
   "outputs": [],
   "source": []
  }
 ],
 "metadata": {
  "kernelspec": {
   "display_name": "Python 3 (ipykernel)",
   "language": "python",
   "name": "python3"
  },
  "language_info": {
   "codemirror_mode": {
    "name": "ipython",
    "version": 3
   },
   "file_extension": ".py",
   "mimetype": "text/x-python",
   "name": "python",
   "nbconvert_exporter": "python",
   "pygments_lexer": "ipython3",
   "version": "3.11.4"
  }
 },
 "nbformat": 4,
 "nbformat_minor": 5
}
